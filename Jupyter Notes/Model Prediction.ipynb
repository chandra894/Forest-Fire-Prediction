{
 "cells": [
  {
   "cell_type": "code",
   "execution_count": 53,
   "id": "40a36576-6719-491d-8416-c155235cf067",
   "metadata": {},
   "outputs": [],
   "source": [
    "import pandas as pd\n",
    "import warnings\n",
    "warnings.filterwarnings('ignore')\n",
    "df= pd.read_csv('Preprocessed Dataset.csv')"
   ]
  },
  {
   "cell_type": "code",
   "execution_count": 54,
   "id": "d9b5202a-b564-4c71-adb4-898a68c126d7",
   "metadata": {},
   "outputs": [
    {
     "data": {
      "text/html": [
       "<div>\n",
       "<style scoped>\n",
       "    .dataframe tbody tr th:only-of-type {\n",
       "        vertical-align: middle;\n",
       "    }\n",
       "\n",
       "    .dataframe tbody tr th {\n",
       "        vertical-align: top;\n",
       "    }\n",
       "\n",
       "    .dataframe thead th {\n",
       "        text-align: right;\n",
       "    }\n",
       "</style>\n",
       "<table border=\"1\" class=\"dataframe\">\n",
       "  <thead>\n",
       "    <tr style=\"text-align: right;\">\n",
       "      <th></th>\n",
       "      <th>0</th>\n",
       "      <th>1</th>\n",
       "      <th>2</th>\n",
       "      <th>3</th>\n",
       "      <th>4</th>\n",
       "      <th>5</th>\n",
       "      <th>6</th>\n",
       "      <th>7</th>\n",
       "      <th>8</th>\n",
       "      <th>Classes</th>\n",
       "    </tr>\n",
       "  </thead>\n",
       "  <tbody>\n",
       "    <tr>\n",
       "      <th>0</th>\n",
       "      <td>-0.870655</td>\n",
       "      <td>-0.340673</td>\n",
       "      <td>0.893277</td>\n",
       "      <td>-0.381657</td>\n",
       "      <td>-0.847927</td>\n",
       "      <td>-0.912120</td>\n",
       "      <td>-0.830356</td>\n",
       "      <td>-0.880159</td>\n",
       "      <td>-0.995893</td>\n",
       "      <td>0</td>\n",
       "    </tr>\n",
       "    <tr>\n",
       "      <th>1</th>\n",
       "      <td>-0.870655</td>\n",
       "      <td>-0.070359</td>\n",
       "      <td>-0.888877</td>\n",
       "      <td>0.268642</td>\n",
       "      <td>-0.938709</td>\n",
       "      <td>-0.855520</td>\n",
       "      <td>-0.902720</td>\n",
       "      <td>-0.893626</td>\n",
       "      <td>-0.995893</td>\n",
       "      <td>0</td>\n",
       "    </tr>\n",
       "    <tr>\n",
       "      <th>2</th>\n",
       "      <td>-1.699254</td>\n",
       "      <td>1.348788</td>\n",
       "      <td>2.319000</td>\n",
       "      <td>6.171355</td>\n",
       "      <td>-2.146802</td>\n",
       "      <td>-0.984891</td>\n",
       "      <td>-1.071571</td>\n",
       "      <td>-0.934029</td>\n",
       "      <td>-0.995893</td>\n",
       "      <td>0</td>\n",
       "    </tr>\n",
       "    <tr>\n",
       "      <th>3</th>\n",
       "      <td>-1.975454</td>\n",
       "      <td>1.821837</td>\n",
       "      <td>-0.888877</td>\n",
       "      <td>0.868918</td>\n",
       "      <td>-3.438694</td>\n",
       "      <td>-1.081920</td>\n",
       "      <td>-1.143935</td>\n",
       "      <td>-0.947497</td>\n",
       "      <td>-0.995893</td>\n",
       "      <td>0</td>\n",
       "    </tr>\n",
       "    <tr>\n",
       "      <th>4</th>\n",
       "      <td>-1.423054</td>\n",
       "      <td>1.010896</td>\n",
       "      <td>0.180416</td>\n",
       "      <td>-0.381657</td>\n",
       "      <td>-0.910776</td>\n",
       "      <td>-0.944463</td>\n",
       "      <td>-0.854477</td>\n",
       "      <td>-0.880159</td>\n",
       "      <td>-0.995893</td>\n",
       "      <td>0</td>\n",
       "    </tr>\n",
       "  </tbody>\n",
       "</table>\n",
       "</div>"
      ],
      "text/plain": [
       "          0         1         2         3         4         5         6  \\\n",
       "0 -0.870655 -0.340673  0.893277 -0.381657 -0.847927 -0.912120 -0.830356   \n",
       "1 -0.870655 -0.070359 -0.888877  0.268642 -0.938709 -0.855520 -0.902720   \n",
       "2 -1.699254  1.348788  2.319000  6.171355 -2.146802 -0.984891 -1.071571   \n",
       "3 -1.975454  1.821837 -0.888877  0.868918 -3.438694 -1.081920 -1.143935   \n",
       "4 -1.423054  1.010896  0.180416 -0.381657 -0.910776 -0.944463 -0.854477   \n",
       "\n",
       "          7         8  Classes  \n",
       "0 -0.880159 -0.995893        0  \n",
       "1 -0.893626 -0.995893        0  \n",
       "2 -0.934029 -0.995893        0  \n",
       "3 -0.947497 -0.995893        0  \n",
       "4 -0.880159 -0.995893        0  "
      ]
     },
     "execution_count": 54,
     "metadata": {},
     "output_type": "execute_result"
    }
   ],
   "source": [
    "df.head(5)"
   ]
  },
  {
   "cell_type": "code",
   "execution_count": 55,
   "id": "bb728ef6-4904-4e47-8189-a300d89b0694",
   "metadata": {},
   "outputs": [],
   "source": [
    "x = df.drop('Classes',axis =1)\n",
    "y = df['Classes']"
   ]
  },
  {
   "cell_type": "code",
   "execution_count": 56,
   "id": "4ac390f5-5c06-484f-b494-9cfa81f01e4c",
   "metadata": {},
   "outputs": [],
   "source": [
    "from sklearn.model_selection import train_test_split\n",
    "x_train, x_test, y_train, y_test = train_test_split(x,y,test_size = 0.2, random_state = 73)"
   ]
  },
  {
   "cell_type": "code",
   "execution_count": 57,
   "id": "95529525-9232-4832-bee3-04af786135fe",
   "metadata": {},
   "outputs": [
    {
     "data": {
      "text/plain": [
       "((194, 9), (49, 9), (194,), (49,))"
      ]
     },
     "execution_count": 57,
     "metadata": {},
     "output_type": "execute_result"
    }
   ],
   "source": [
    "x_train.shape, x_test.shape, y_train.shape, y_test.shape"
   ]
  },
  {
   "cell_type": "code",
   "execution_count": 58,
   "id": "7c2f3a7c-575b-4fae-b644-7264b14f7260",
   "metadata": {},
   "outputs": [],
   "source": [
    "from sklearn.linear_model import LogisticRegression\n",
    "from sklearn.tree import DecisionTreeClassifier\n",
    "from sklearn.ensemble import RandomForestClassifier,GradientBoostingClassifier,AdaBoostClassifier\n",
    "from sklearn.neighbors import KNeighborsClassifier\n",
    "from sklearn.svm import SVC\n",
    "from xgboost import XGBClassifier\n",
    "from sklearn.metrics import classification_report, f1_score,accuracy_score,confusion_matrix"
   ]
  },
  {
   "cell_type": "markdown",
   "id": "fcf986bd-74eb-4230-9fdf-cd9fee7db3bc",
   "metadata": {},
   "source": [
    "# LogisticRegression"
   ]
  },
  {
   "cell_type": "code",
   "execution_count": 60,
   "id": "ee0eb33e-a8e0-49af-9efe-c6f3ea2395ea",
   "metadata": {},
   "outputs": [
    {
     "name": "stdout",
     "output_type": "stream",
     "text": [
      "0.9795918367346939\n"
     ]
    }
   ],
   "source": [
    "log_model = LogisticRegression()\n",
    "log_model.fit(x_train, y_train)\n",
    "y_pred = log_model.predict(x_test)\n",
    "print(accuracy_score(y_test,y_pred))"
   ]
  },
  {
   "cell_type": "code",
   "execution_count": 61,
   "id": "1c9afc94-0a83-45a7-aa0f-2e24531a54af",
   "metadata": {},
   "outputs": [
    {
     "name": "stdout",
     "output_type": "stream",
     "text": [
      "classification_report \n",
      "               precision    recall  f1-score   support\n",
      "\n",
      "           0       0.95      1.00      0.98        20\n",
      "           1       1.00      0.97      0.98        29\n",
      "\n",
      "    accuracy                           0.98        49\n",
      "   macro avg       0.98      0.98      0.98        49\n",
      "weighted avg       0.98      0.98      0.98        49\n",
      "\n",
      "\n",
      "accuracy_score \n",
      " 0.9795918367346939\n",
      "\n",
      "f1_score \n",
      " 0.9824561403508771\n",
      "\n",
      "confusion_matrix \n",
      " [[20  0]\n",
      " [ 1 28]]\n",
      "\n"
     ]
    }
   ],
   "source": [
    "metrics = [classification_report,accuracy_score,f1_score,confusion_matrix]\n",
    "for i in metrics:\n",
    "    print(f'{i.__name__} \\n {i(y_test, y_pred)}\\n')"
   ]
  },
  {
   "cell_type": "markdown",
   "id": "c7c19b33-3166-48b9-9399-e7c209dfc388",
   "metadata": {},
   "source": [
    "# DecisionTreeClassifier"
   ]
  },
  {
   "cell_type": "code",
   "execution_count": 63,
   "id": "1ea12c3e-127e-4ec7-b41c-b3ffac31d7d7",
   "metadata": {},
   "outputs": [
    {
     "name": "stdout",
     "output_type": "stream",
     "text": [
      "0.9795918367346939\n"
     ]
    }
   ],
   "source": [
    "DT_model = DecisionTreeClassifier()\n",
    "DT_model.fit(x_train, y_train)\n",
    "y_pred = DT_model.predict(x_test)\n",
    "print(accuracy_score(y_test,y_pred))"
   ]
  },
  {
   "cell_type": "markdown",
   "id": "9b4bc057-b2da-4008-b449-39be037e4ffa",
   "metadata": {},
   "source": [
    "# RandomForestClassifier"
   ]
  },
  {
   "cell_type": "code",
   "execution_count": 65,
   "id": "b34abfd0-05c3-4df5-9c02-2878d6f1dfdb",
   "metadata": {},
   "outputs": [
    {
     "name": "stdout",
     "output_type": "stream",
     "text": [
      "1.0\n"
     ]
    }
   ],
   "source": [
    "RF_model = RandomForestClassifier()\n",
    "RF_model.fit(x_train, y_train)\n",
    "y_pred = RF_model.predict(x_test)\n",
    "print(accuracy_score(y_test,y_pred))"
   ]
  },
  {
   "cell_type": "markdown",
   "id": "e50c8631-8fe3-4fa3-ab5f-d7f96650c775",
   "metadata": {},
   "source": [
    "# KNeighborsClassifier"
   ]
  },
  {
   "cell_type": "code",
   "execution_count": 67,
   "id": "22e68b04-81da-4cd8-a739-fa1df9b5787a",
   "metadata": {},
   "outputs": [
    {
     "name": "stdout",
     "output_type": "stream",
     "text": [
      "0.9387755102040817\n"
     ]
    }
   ],
   "source": [
    "knn_model = KNeighborsClassifier()\n",
    "knn_model.fit(x_train,y_train)\n",
    "y_pred=knn_model.predict(x_test)\n",
    "print(accuracy_score(y_test,y_pred))"
   ]
  },
  {
   "cell_type": "markdown",
   "id": "a1cd5f69-698a-4d17-a2e7-af26a7c41ca4",
   "metadata": {},
   "source": [
    "# AdaBoostClassifier"
   ]
  },
  {
   "cell_type": "code",
   "execution_count": 69,
   "id": "08b91306-6cdc-4848-a321-12af4b997831",
   "metadata": {},
   "outputs": [
    {
     "name": "stdout",
     "output_type": "stream",
     "text": [
      "0.9795918367346939\n"
     ]
    }
   ],
   "source": [
    "ab_model = AdaBoostClassifier()\n",
    "ab_model.fit(x_train,y_train)\n",
    "y_pred=ab_model.predict(x_test)\n",
    "print(accuracy_score(y_test,y_pred))"
   ]
  },
  {
   "cell_type": "markdown",
   "id": "e0b78f44-a229-400a-ad7d-44209a327416",
   "metadata": {},
   "source": [
    "# GradientBoostingClassifier"
   ]
  },
  {
   "cell_type": "code",
   "execution_count": 71,
   "id": "ef1d6678-5a54-45ee-8cad-7f6d99000532",
   "metadata": {},
   "outputs": [
    {
     "name": "stdout",
     "output_type": "stream",
     "text": [
      "0.9795918367346939\n"
     ]
    }
   ],
   "source": [
    "gb_model = GradientBoostingClassifier()\n",
    "gb_model.fit(x_train,y_train)\n",
    "y_pred=gb_model.predict(x_test)\n",
    "print(accuracy_score(y_test,y_pred))"
   ]
  },
  {
   "cell_type": "markdown",
   "id": "d5fa67fe-85a4-4f02-857d-7a39dab809d0",
   "metadata": {},
   "source": [
    "# SVC"
   ]
  },
  {
   "cell_type": "code",
   "execution_count": 73,
   "id": "98e10a97-7d3b-443a-8c01-d3e2ec0b710f",
   "metadata": {},
   "outputs": [
    {
     "name": "stdout",
     "output_type": "stream",
     "text": [
      "0.9387755102040817\n"
     ]
    }
   ],
   "source": [
    "svm_model = SVC()\n",
    "svm_model.fit(x_train,y_train)\n",
    "y_pred=svm_model.predict(x_test)\n",
    "print(accuracy_score(y_test,y_pred))"
   ]
  },
  {
   "cell_type": "markdown",
   "id": "139d0ff8-94fa-4100-9e64-49f413bc4ff3",
   "metadata": {},
   "source": [
    "# XGBClassifier"
   ]
  },
  {
   "cell_type": "code",
   "execution_count": 75,
   "id": "61b7f2fb-ebfa-4da8-a3c5-9dbfce858040",
   "metadata": {},
   "outputs": [
    {
     "name": "stdout",
     "output_type": "stream",
     "text": [
      "1.0\n"
     ]
    }
   ],
   "source": [
    "xgb_model = XGBClassifier()\n",
    "xgb_model.fit(x_train,y_train)\n",
    "y_pred=xgb_model.predict(x_test)\n",
    "print(accuracy_score(y_test,y_pred))"
   ]
  },
  {
   "cell_type": "code",
   "execution_count": 76,
   "id": "a9bc588c-6fdf-4779-85af-8349647c0bfd",
   "metadata": {},
   "outputs": [
    {
     "name": "stdout",
     "output_type": "stream",
     "text": [
      "LogisticRegression() -----> 0.9795918367346939\n",
      "KNeighborsClassifier() -----> 0.9387755102040817\n",
      "SVC() -----> 0.9387755102040817\n",
      "DecisionTreeClassifier() -----> 0.9591836734693877\n",
      "RandomForestClassifier() -----> 1.0\n",
      "AdaBoostClassifier() -----> 0.9591836734693877\n",
      "GradientBoostingClassifier() -----> 0.9795918367346939\n"
     ]
    }
   ],
   "source": [
    "model=[LogisticRegression(),KNeighborsClassifier(),SVC(),DecisionTreeClassifier(),RandomForestClassifier(),AdaBoostClassifier(),GradientBoostingClassifier()]\n",
    "for i in model:\n",
    "    i.fit(x_train,y_train)\n",
    "    y_pred=i.predict(x_test)\n",
    "    print(i,\"----->\",accuracy_score(y_test,y_pred))"
   ]
  },
  {
   "cell_type": "markdown",
   "id": "76036a3d-d34a-4059-9a79-e8db4f8486ff",
   "metadata": {},
   "source": [
    "##### Observation\n",
    "Among all the models RandomForestClassifier is performing better"
   ]
  },
  {
   "cell_type": "code",
   "execution_count": null,
   "id": "688d6f11-033e-4570-9471-7884021b8209",
   "metadata": {},
   "outputs": [],
   "source": []
  }
 ],
 "metadata": {
  "kernelspec": {
   "display_name": "Python 3 (ipykernel)",
   "language": "python",
   "name": "python3"
  },
  "language_info": {
   "codemirror_mode": {
    "name": "ipython",
    "version": 3
   },
   "file_extension": ".py",
   "mimetype": "text/x-python",
   "name": "python",
   "nbconvert_exporter": "python",
   "pygments_lexer": "ipython3",
   "version": "3.12.4"
  }
 },
 "nbformat": 4,
 "nbformat_minor": 5
}
